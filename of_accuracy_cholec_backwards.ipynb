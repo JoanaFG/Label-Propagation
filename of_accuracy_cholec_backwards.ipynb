{
 "cells": [
  {
   "cell_type": "code",
   "execution_count": 1,
   "metadata": {},
   "outputs": [],
   "source": [
    "import pandas as pd\n",
    "import os\n",
    "\n",
    "def process_annotations(file_path, sheet_name, threshold):\n",
    "    \"\"\"\n",
    "    Process the annotation data based on a given dissimilarity score threshold.\n",
    "\n",
    "    Parameters:\n",
    "    file_path (str): Path to the Excel file.\n",
    "    sheet_name (str): Name of the sheet in the Excel file.\n",
    "    threshold (float): Threshold for the dissimilarity score.\n",
    "\n",
    "    Returns:\n",
    "    pd.DataFrame: Updated DataFrame with carried forward annotations.\n",
    "    float: Accuracy of the annotations.\n",
    "    int: Number of frames that need annotation.\n",
    "    \"\"\"\n",
    "\n",
    "    # Load the data from the specified sheet\n",
    "    data = pd.read_excel(file_path, sheet_name=sheet_name)\n",
    "\n",
    "    # Copy the original annotations\n",
    "    original_annotations = data.iloc[:, 1:-2].copy()  # Excluding frame number and Optical Flow Score\n",
    "\n",
    "    # Initialize the 'annotation needed' column with 0s\n",
    "    data['annotation needed'] = 0\n",
    "\n",
    "    # Classify frames based on the threshold\n",
    "    data.loc[data['Optical Flow Score'] > threshold, 'annotation needed'] = 1\n",
    "\n",
    "    # Carry backwards annotations for frames where no new annotation is needed\n",
    "    for col in original_annotations.columns:\n",
    "        for i in range(len(data) - 2, -1, -1):\n",
    "            if data.loc[i, 'annotation needed'] == 0:\n",
    "                data.loc[i, col] = data.loc[i + 1, col]\n",
    "\n",
    "    # Ensure columns match for comparison\n",
    "    updated_annotations = data.iloc[:, 1:-2]  # Updated annotations, excluding frame number and last two columns\n",
    "    matching_columns = updated_annotations.columns.intersection(original_annotations.columns)\n",
    "    updated_annotations = updated_annotations[matching_columns]\n",
    "    original_annotations = original_annotations[matching_columns]\n",
    "\n",
    "    # Calculate accuracy (em vez de anotações completas colocar por coluna, cada coluna num código)\n",
    "    correct_annotations = (original_annotations == updated_annotations).all(axis=1).sum()\n",
    "    total_annotations = len(data)\n",
    "    accuracy = correct_annotations / total_annotations\n",
    "\n",
    "    # Count the number of frames that need annotation\n",
    "    num_frames_to_annotate = data['annotation needed'].sum()\n",
    "\n",
    "    return data, accuracy, num_frames_to_annotate\n"
   ]
  },
  {
   "cell_type": "code",
   "execution_count": 3,
   "metadata": {},
   "outputs": [
    {
     "name": "stdout",
     "output_type": "stream",
     "text": [
      "File path: C://Users//dulce//OneDrive//Documentos//Tese mestrado//Excel//VID75_optical_flow_scores.xlsx\n",
      "Sheet Name: anat\n",
      "Accuracy: 0.7136174636174636\n",
      "Threshold: 80\n",
      "Number of frames needing annotation: 189\n",
      "Updated file saved as: C://Users//dulce//OneDrive//Documentos//Tese mestrado//Excel//VID75_optical_flow_scores_anat_accuracy_80.xlsx\n"
     ]
    }
   ],
   "source": [
    "# Example usage\n",
    "file_path = 'C://Users//dulce//OneDrive//Documentos//Tese mestrado//Excel//VID75_optical_flow_scores.xlsx'  # Replace with your file path\n",
    "sheet_name = 'anat'  # Replace with the name of your sheet\n",
    "threshold = 80 # Set your desired threshold\n",
    "updated_data, accuracy, num_frames_to_annotate = process_annotations(file_path, sheet_name, threshold)\n",
    "\n",
    "# Generate output file path\n",
    "file_name, file_extension = os.path.splitext(file_path)\n",
    "output_file_path = f\"{file_name}_{sheet_name}_accuracy_{threshold}{file_extension}\"\n",
    "\n",
    "# Save the updated data back to an Excel file\n",
    "updated_data.to_excel(output_file_path, index=False)\n",
    "\n",
    "print(f'File path: {file_path}')\n",
    "print(f'Sheet Name: {sheet_name}')\n",
    "print(f'Accuracy: {accuracy}')\n",
    "print(f'Threshold: {threshold}')\n",
    "print(f'Number of frames needing annotation: {num_frames_to_annotate}')\n",
    "print(f'Updated file saved as: {output_file_path}')\n"
   ]
  },
  {
   "cell_type": "code",
   "execution_count": null,
   "metadata": {},
   "outputs": [],
   "source": []
  }
 ],
 "metadata": {
  "kernelspec": {
   "display_name": "base",
   "language": "python",
   "name": "python3"
  },
  "language_info": {
   "codemirror_mode": {
    "name": "ipython",
    "version": 3
   },
   "file_extension": ".py",
   "mimetype": "text/x-python",
   "name": "python",
   "nbconvert_exporter": "python",
   "pygments_lexer": "ipython3",
   "version": "3.11.7"
  }
 },
 "nbformat": 4,
 "nbformat_minor": 2
}
