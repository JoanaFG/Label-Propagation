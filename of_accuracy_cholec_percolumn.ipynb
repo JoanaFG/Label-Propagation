import pandas as pd
import os

def process_annotations(file_path, sheet_name, threshold):
    """
    Process the annotation data based on a given dissimilarity score threshold.

    Parameters:
    file_path (str): Path to the Excel file.
    sheet_name (str): Name of the sheet in the Excel file.
    threshold (float): Threshold for the dissimilarity score.

    Returns:
    pd.DataFrame: Updated DataFrame with carried forward annotations.
    dict: Accuracy of the annotations per column.
    dict: Number of frames that need annotation per column.
    dict: Number Needed to Annotate (NNA) per column.
    dict: Percentage of reduced frames with annotation per column.
    """

    # Load the data from the specified sheet
    data = pd.read_excel(file_path, sheet_name=sheet_name)

    # Copy the original annotations
    original_annotations = data.iloc[:, 1:-1].copy()  # Excluding frame number and Optical Flow Score

    # Initialize the 'annotation needed' column with 0s
    data['annotation needed'] = 0

    # Classify frames based on the threshold
    data.loc[data['Optical Flow Score'] > threshold, 'annotation needed'] = 1

    # Carry forward annotations for frames where no new annotation is needed
    for col in original_annotations.columns:
        for i in range(1, len(data)):
            if data.loc[i, 'annotation needed'] == 0:
                data.loc[i, col] = data.loc[i - 1, col]

    # Ensure columns match for comparison
    updated_annotations = data.iloc[:, 1:-1]  # Updated annotations, excluding frame number and last column
    matching_columns = updated_annotations.columns.intersection(original_annotations.columns)
    updated_annotations = updated_annotations[matching_columns]
    original_annotations = original_annotations[matching_columns]

    # Calculate metrics per column
    accuracies = {}
    frames_to_annotate_per_column = {}
    number_needed_to_annotate = {}
    percent_reduced_with_annotation = {}

    reduced_frames = data[data['annotation needed'] == 1]
    total_reduced_frames = len(reduced_frames)

    for col in matching_columns:
        correct_annotations = (original_annotations[col] == updated_annotations[col]).sum()
        total_annotations = len(data)
        accuracies[col] = correct_annotations / total_annotations
        frames_to_annotate_per_column[col] = reduced_frames[col].sum()

        # NNA: number of frames with annotation of the structure within the reduced set
        number_needed_to_annotate[col] = reduced_frames[col].sum()

        # % of reduced frames with annotation of the structure
        if total_reduced_frames > 0:
            percent_reduced_with_annotation[col] = reduced_frames[col].sum() / total_reduced_frames * 100
        else:
            percent_reduced_with_annotation[col] = 0.0

    # Count the total number of frames that need annotation
    num_frames_to_annotate = data['annotation needed'].sum()

    return data, accuracies, frames_to_annotate_per_column, num_frames_to_annotate, number_needed_to_annotate, percent_reduced_with_annotation
